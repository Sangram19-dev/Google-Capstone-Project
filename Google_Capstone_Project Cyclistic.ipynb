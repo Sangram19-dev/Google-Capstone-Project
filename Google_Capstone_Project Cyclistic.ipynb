{
 "cells": [
  {
   "cell_type": "markdown",
   "metadata": {},
   "source": []
  },
  {
   "cell_type": "markdown",
   "metadata": {},
   "source": [
    "# Google Capstone Project"
   ]
  },
  {
   "cell_type": "code",
   "execution_count": null,
   "metadata": {},
   "outputs": [],
   "source": [
    "#Load the necessary libraries that will be utilized for the project\n",
    "library(tidyverse)\n",
    "library(lubridate)\n",
    "library(janitor)\n",
    "library(dplyr)\n",
    "library(ggplot2)"
   ]
  },
  {
   "cell_type": "markdown",
   "metadata": {},
   "source": []
  },
  {
   "cell_type": "markdown",
   "metadata": {},
   "source": [
    "### Load all the data, as well as combine every dataset"
   ]
  },
  {
   "cell_type": "code",
   "execution_count": null,
   "metadata": {
    "execution": {
     "iopub.execute_input": "2022-02-25T03:49:21.133351Z",
     "iopub.status.busy": "2022-02-25T03:49:21.124773Z",
     "iopub.status.idle": "2022-02-25T03:51:32.05763Z"
    }
   },
   "outputs": [],
   "source": [
    "trip20_Jan <- read.csv(\"../input/divvytrips2021/202101-divvy-tripdata.csv\") #load data into R\n",
    "trip20_Feb <- read.csv(\"../input/divvytrips2021/202102-divvy-tripdata.csv\")\n",
    "trip20_Mar <- read.csv(\"../input/divvytrips2021/202103-divvy-tripdata.csv\")\n",
    "trip20_Apr <- read.csv(\"../input/divvytrips2021/202104-divvy-tripdata.csv\")\n",
    "trip20_May <- read.csv(\"../input/divvytrips2021/202105-divvy-tripdata.csv\")\n",
    "trip20_Jun <- read.csv(\"../input/divvytrips2021/202106-divvy-tripdata.csv\")\n",
    "trip20_Jul <- read.csv(\"../input/divvytrips2021/202107-divvy-tripdata.csv\")\n",
    "trip20_Aug <- read.csv(\"../input/divvytrips2021/202108-divvy-tripdata.csv\")\n",
    "trip20_Sep <- read.csv(\"../input/divvytrips2021/202109-divvy-tripdata.csv\")\n",
    "trip20_Oct <- read.csv(\"../input/divvytrips2021/202110-divvy-tripdata.csv\")\n",
    "trip20_Nov <- read.csv(\"../input/divvytrips2021/202111-divvy-tripdata.csv\")\n",
    "trip20_Dec <- read.csv(\"../input/divvytrips2021/202112-divvy-tripdata.csv\")"
   ]
  },
  {
   "cell_type": "markdown",
   "metadata": {},
   "source": [
    "### Combine every dataset to consolidate analysis \n"
   ]
  },
  {
   "cell_type": "code",
   "execution_count": null,
   "metadata": {},
   "outputs": [],
   "source": [
    "trips20fill<- rbind(trip20_Jan, trip20_Feb, trip20_Mar, trip20_Apr, trip20_May, trip20_Jun, trip20_Jul, trip20_Aug, trip20_Sep, trip20_Oct, trip20_Nov, trip20_Dec)\n"
   ]
  },
  {
   "cell_type": "markdown",
   "metadata": {},
   "source": [
    "### View newly created dataset"
   ]
  },
  {
   "cell_type": "code",
   "execution_count": null,
   "metadata": {},
   "outputs": [],
   "source": [
    "View(trips20fill) #combine all datasets "
   ]
  },
  {
   "cell_type": "markdown",
   "metadata": {},
   "source": [
    "### Firstly remove all the irrelevent columns that won't be used for analysis "
   ]
  },
  {
   "cell_type": "code",
   "execution_count": null,
   "metadata": {},
   "outputs": [],
   "source": [
    "trips20fill <- trips20fill %>%  \n",
    "  select(-c(start_lat, start_lng, end_lat, end_lng, start_station_id,end_station_id, end_station_name))"
   ]
  },
  {
   "cell_type": "markdown",
   "metadata": {},
   "source": [
    "### Review of the data and its parameters. "
   ]
  },
  {
   "cell_type": "code",
   "execution_count": null,
   "metadata": {},
   "outputs": [],
   "source": [
    "colnames(trips20fill)  #List of column names\n",
    "nrow(trips20fill)  #How many rows are in data frame?\n",
    "dim(trips20fill)  #Dimensions of the data frame?\n",
    "head(trips20fill, 6)  #See the first 6 rows of data frame.  Also tail(all_trips)\n",
    "str(trips20fill)  #See list of columns and data types (numeric, character, etc)\n",
    "summary(trips20fill) #inspect the date and its dimensions before moving onto cleaning"
   ]
  },
  {
   "cell_type": "markdown",
   "metadata": {},
   "source": [
    "### Additional columns must be created for date and time."
   ]
  },
  {
   "cell_type": "code",
   "execution_count": null,
   "metadata": {},
   "outputs": [],
   "source": [
    "#The default format is yyyy-mm-dd\n",
    "trips20fill$date <- as.Date(trips20fill$started_at)\n",
    "trips20fill$month <- format(as.Date(trips20fill$date), \"%m\")\n",
    "trips20fill$day <- format(as.Date(trips20fill$date), \"%d\")\n",
    "trips20fill$year <- format(as.Date(trips20fill$date), \"%Y\")\n",
    "trips20fill$day_of_week <- format(as.Date(trips20fill$date), \"%A\")\n",
    "trips20fill$time <- format(trips20fill$started_at, format= \"%H:%M\")\n",
    "trips20fill$time <- as.POSIXct(trips20fill$time, format= \"%H:%M\")"
   ]
  },
  {
   "cell_type": "markdown",
   "metadata": {},
   "source": [
    "### Calculated filed that shows the time of each unique ride "
   ]
  },
  {
   "cell_type": "code",
   "execution_count": null,
   "metadata": {},
   "outputs": [],
   "source": [
    "#create calculated field to isolate time spent on every ride.\n",
    "trips20fill$ride_length <- (as.double(difftime(trips20fill$ended_at, trips20fill$started_at))) /60"
   ]
  },
  {
   "cell_type": "markdown",
   "metadata": {},
   "source": [
    "### Check data structure. Confirm data types for time/date "
   ]
  },
  {
   "cell_type": "code",
   "execution_count": null,
   "metadata": {},
   "outputs": [],
   "source": [
    "str(trips20fill) #confirm data type is double [True]"
   ]
  },
  {
   "cell_type": "markdown",
   "metadata": {},
   "source": [
    "### Alter data type for time "
   ]
  },
  {
   "cell_type": "code",
   "execution_count": null,
   "metadata": {},
   "outputs": [],
   "source": [
    "trips20fill$ride_length <- as.numeric(as.character(trips20fill$ride_length)) #change datatype to numeric for further analysis"
   ]
  },
  {
   "cell_type": "markdown",
   "metadata": {},
   "source": [
    "### Remove all blank entries from the dataset "
   ]
  },
  {
   "cell_type": "code",
   "execution_count": null,
   "metadata": {},
   "outputs": [],
   "source": [
    "trips20fill<- trips20fill[!(trips20fill$start_station_name == \"HQ QR\" | trips20fill$ride_length<0),]"
   ]
  },
  {
   "cell_type": "markdown",
   "metadata": {},
   "source": [
    "### Observe the newly created column for the backup dataset"
   ]
  },
  {
   "cell_type": "code",
   "execution_count": null,
   "metadata": {},
   "outputs": [],
   "source": [
    "summary(trips20fill$ride_length)"
   ]
  },
  {
   "cell_type": "markdown",
   "metadata": {},
   "source": [
    "## Analyze data \n",
    "\n",
    "\n",
    "\n",
    "\n",
    "### Calculating the mean, median, max, min - figures to determine statisical spead of membership type"
   ]
  },
  {
   "cell_type": "code",
   "execution_count": null,
   "metadata": {},
   "outputs": [],
   "source": [
    "aggregate(trips20fill$ride_length ~ trips20fill$member_casual, FUN = mean)\n",
    "aggregate(trips20fill$ride_length ~ trips20fill$member_casual, FUN = median)\n",
    "aggregate(trips20fill$ride_length ~ trips20fill$member_casual, FUN = max)\n",
    "aggregate(trips20fill$ride_length ~ trips20fill$member_casual, FUN = min)"
   ]
  },
  {
   "cell_type": "markdown",
   "metadata": {},
   "source": [
    "\n",
    "### Order day's of week within new dataset for future use"
   ]
  },
  {
   "cell_type": "code",
   "execution_count": null,
   "metadata": {},
   "outputs": [],
   "source": [
    "trips20fill$day_of_week <- ordered(trips20fill$day_of_week, levels=c(\"Sunday\", \"Monday\", \"Tuesday\", \"Wednesday\", \"Thursday\", \"Friday\", \"Saturday\"))"
   ]
  },
  {
   "cell_type": "markdown",
   "metadata": {},
   "source": [
    "### Create a weekday field as well as view column specifics "
   ]
  },
  {
   "cell_type": "code",
   "execution_count": null,
   "metadata": {},
   "outputs": [],
   "source": [
    "trips20fill %>% \n",
    "  mutate(day_of_week = wday(started_at, label = TRUE)) %>%  #creates weekday field using wday()\n",
    "  group_by(member_casual, day_of_week ) %>%  #groups by usertype and weekday\n",
    "  summarise(number_of_rides = n())"
   ]
  },
  {
   "cell_type": "markdown",
   "metadata": {},
   "source": [
    "# Data Visualiation's"
   ]
  },
  {
   "cell_type": "code",
   "execution_count": null,
   "metadata": {},
   "outputs": [],
   "source": [
    "trips20fill$day_of_week  <- format(as.Date(trips20fill$date), \"%A\")\n",
    "trips20fill %>%                              #total rides broken down by weekday\n",
    "  group_by(customer_type, day_of_week) %>% \n",
    "  summarise(number_of_rides = n()) %>% \n",
    "  arrange(customer_type, day_of_week) %>%\n",
    "  ggplot(aes(x = day_of_week, y = number_of_rides, fill = customer_type)) + geom_col(position = \"dodge\") + \n",
    "  labs(x='Day of Week', y='Total Number of Rides', title='Rides per Day of Week', fill = 'Type of Membership') + \n",
    "  scale_y_continuous(breaks = c(250000, 400000, 550000), labels = c(\"250K\", \"400K\", \"550K\"))"
   ]
  },
  {
   "cell_type": "markdown",
   "metadata": {},
   "source": [
    "#### The rides per day of week show casual riders peak on the Saturday and Sunday while members peak Monday through Friday. This indicates members mainly use the bikes for their commutes and not leisure. "
   ]
  },
  {
   "cell_type": "code",
   "execution_count": null,
   "metadata": {},
   "outputs": [],
   "source": [
    "trips20fill %>%   #total rides broken down by month\n",
    "  group_by(member_casual, month) %>%  \n",
    "  summarise(total_rides = n(),`average_duration_(mins)` = mean(ride_length)) %>% \n",
    "  arrange(member_casual) %>% \n",
    "  ggplot(aes(x=month, y=total_rides, fill = member_casual)) + geom_col(position = \"dodge\") + \n",
    "  labs(x= \"Month\", y= \"Total Number of Rides\", title = \"Rides per Month\", fill = \"Type of Membership\") + \n",
    "  scale_y_continuous(breaks = c(100000, 200000, 300000, 400000), labels = c(\"100K\", \"200K\", \"300K\", \"400K\")) + theme(axis.text.x = element_text(angle = 45))"
   ]
  },
  {
   "cell_type": "markdown",
   "metadata": {},
   "source": [
    "#### The rides per month show that casual riders were a lot more active during the summer months than the long-term. Conversly, the winter months show very little activity on the part of the casual users. The long-term users are more active in the winter and spring months."
   ]
  },
  {
   "cell_type": "code",
   "execution_count": null,
   "metadata": {},
   "outputs": [],
   "source": [
    "trips20fill %>%    #looking at breakdown of bike types rented\n",
    "  ggplot(aes(x = rideable_type, fill = member_casual)) + geom_bar(position = \"dodge\") + \n",
    "  labs(x= 'Type of Bike', y='Number of Rentals', title='Which bike works the most', fill = 'Type of Membership') +\n",
    "  scale_y_continuous(breaks = c(500000, 1000000, 1500000), labels = c(\"500K\", \"1Mil\", \"1.5Mil\"))"
   ]
  },
  {
   "cell_type": "markdown",
   "metadata": {},
   "source": [
    "#### The breakdown of which type of bike is the most popular among either type of user. Showing among the two types of bikes classic and electric. both types of memberships prefer using the classic bike more so than the electric bike. The long-term memebrs are also seen to be of the two types favours the classic bike."
   ]
  },
  {
   "cell_type": "code",
   "execution_count": null,
   "metadata": {},
   "outputs": [],
   "source": [
    "trips20fill %>%        #Find the average time spent riding by each membership type per individul day\n",
    "  mutate(day_of_week = wday(started_at, label = TRUE)) %>%  \n",
    "  group_by(member_casual, day_of_week) %>% \n",
    "  summarise(number_of_rides = n()\n",
    "            ,average_duration = mean(ride_length)) %>% \n",
    "  arrange(member_casual, day_of_week)  %>% \n",
    "  ggplot(aes(x = day_of_week, y = average_duration, fill = member_casual)) +\n",
    "  geom_col(position = \"dodge\") + labs(x='Days of the week', y='Average duration - Hrs', title='Average ride time per week', fill='Type of Membership') "
   ]
  },
  {
   "cell_type": "markdown",
   "metadata": {},
   "source": [
    "#### The average ride time shows a stark difference between the casuals and members. Casuals overall spend more time using the service than their full time member counter-parts."
   ]
  },
  {
   "cell_type": "markdown",
   "metadata": {},
   "source": [
    "# what does the data tell us?\n",
    "\n",
    "## key takeaways\n",
    "- Casual users tended to ride more so in the warmer months of Chicago, namely June- August. Their participation exceeded that of the long term members.\n",
    "- To further that the Casual demographic spent on average a lot longer time per ride than their long-term counter-parts. \n",
    "- The days of the week also further shows that causal riders prefer to use the service during the weekends as their usage peaked then. The long term members conversly utilised the service more-so throughout the typical work week i.e (Monday- friday)\n",
    "- Long term riders tended to stick more so to classic bikes as opposed to the docked or electric bikes.\n",
    "\n",
    "\n",
    " "
   ]
  },
  {
   "cell_type": "markdown",
   "metadata": {},
   "source": []
  },
  {
   "cell_type": "markdown",
   "metadata": {},
   "source": []
  },
  {
   "cell_type": "markdown",
   "metadata": {},
   "source": []
  },
  {
   "cell_type": "markdown",
   "metadata": {},
   "source": []
  }
 ],
 "metadata": {
  "kernelspec": {
   "display_name": "R",
   "language": "R",
   "name": "ir"
  },
  "language_info": {
   "codemirror_mode": "r",
   "file_extension": ".r",
   "mimetype": "text/x-r-source",
   "name": "R",
   "pygments_lexer": "r",
   "version": "4.0.5"
  }
 },
 "nbformat": 4,
 "nbformat_minor": 4
}
